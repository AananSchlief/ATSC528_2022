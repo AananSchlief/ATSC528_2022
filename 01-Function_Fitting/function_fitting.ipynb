{
 "cells": [
  {
   "cell_type": "code",
   "execution_count": null,
   "id": "2ad222fa",
   "metadata": {},
   "outputs": [],
   "source": [
    "\"\"\"\n",
    "Created By    : Jared W. Marquis\n",
    "Creation Date : 01 August 2022\n",
    "Course        : ATSC 528 - Atmospheric Data Analysis\n",
    "Assignment    : #01 - Function Fitting\n",
    "\n",
    "Purpose:\n",
    "Script to take sparse upper air observations and analyze them on a\n",
    "polar stereographic map projection using function fitting.\n",
    "\n",
    "\"\"\"\n",
    "__author__    = \"Jared W. Marquis\"\n",
    "__contact__   = \n",
    "__copyright__ =\n",
    "__license__   =\n",
    "__verions__   ="
   ]
  },
  {
   "cell_type": "code",
   "execution_count": 1,
   "id": "75e49e33",
   "metadata": {},
   "outputs": [
    {
     "name": "stdout",
     "output_type": "stream",
     "text": [
      "hello world\n"
     ]
    }
   ],
   "source": [
    "#Here's some test code\n",
    "'''This is the header'''\n",
    "\n",
    "#import modules\n",
    "import numpy as np\n",
    "import matplotlib.pyplot as plt\n",
    "import cartopy.crs as ccrs\n",
    "\n",
    "print('hello world')"
   ]
  },
  {
   "cell_type": "code",
   "execution_count": null,
   "id": "c93d5d85",
   "metadata": {},
   "outputs": [],
   "source": []
  }
 ],
 "metadata": {
  "kernelspec": {
   "display_name": "Python 3 (ipykernel)",
   "language": "python",
   "name": "python3"
  },
  "language_info": {
   "codemirror_mode": {
    "name": "ipython",
    "version": 3
   },
   "file_extension": ".py",
   "mimetype": "text/x-python",
   "name": "python",
   "nbconvert_exporter": "python",
   "pygments_lexer": "ipython3",
   "version": "3.10.4"
  }
 },
 "nbformat": 4,
 "nbformat_minor": 5
}
